{
 "cells": [
  {
   "cell_type": "markdown",
   "id": "73f1b2fc-f3d4-4a89-899c-59f773ddebec",
   "metadata": {},
   "source": [
    "# Compartmental model of a skeletal muscle\n",
    "\n",
    "## Main reference: <a href=\"https://www.sciencedirect.com/science/article/pii/S0022519321000783#!\"> Senneff and Lowrey, <em>Journal of Theoretical Biology </em>, 2020 </a>\n",
    "\n",
    "### I. Sarcolemma Model\n",
    "\n",
    "#### 1. Ionic currents\n",
    "---\n",
    "$$I_{ionic} = I_{Na} + I_{KDR} + I_{Cl} + I_{KIR} + I_{NaK}$$\n",
    "\n",
    "##### 1. Sodium Current\n",
    "\n",
    "$$I_{Na} = \\bar{g}_{Na} \\cdot m^3 \\cdot h \\cdot S \\cdot (V_m - E_{Na})$$<br>\n",
    "$$\\frac{dS}{dt} = \\frac{S_\\infty - S}{\\tau_S}$$ <br>\n",
    "$$S_\\infty = \\frac{1}{1 + e^{\\frac{V_m - V^\\infty_S}{A^\\infty_S}}}$$ <br>\n",
    "$$\\tau_S = \\frac{60}{0.2 + 5.65 \\Big(\\frac{V_m + V_\\tau}{100}\\Big)}$$ <br>\n",
    "$$\\frac{dm}{dt} = \\frac{\\bar{\\alpha}_m (V - V_m)}{1 - e^{-\\frac{V - V_m}{K_{\\alpha_{m}}}}} (1 - m) - \\bar{\\beta}_m e^{-\\frac{V - V_{\\beta_m}}{K_{\\beta_m}}}m$$ <br>\n",
    "$$\\frac{dh}{dt} = \\bar{\\alpha}_h e^{-\\frac{V - V_{\\alpha_h}}{K_{\\alpha_h}}} (1 - h) - \\frac{\\bar{\\beta}_h}{1 - e^{-\\frac{V - V_h}{K_{\\alpha_{m}}}}}h$$\n",
    "\n",
    "\n",
    "##### 2. Potassium current\n",
    "\n",
    "$$I_{K} = \\bar{g}_K \\cdot n^4 \\cdot h_K \\cdot (V_m - E_K)$$ <br>\n",
    "$$\\frac{dh_K}{dt} = \\frac{h_K^\\infty - h_K}{\\tau_{h_K}}$$ <br>\n",
    "$$h_K^\\infty = \\frac{1}{1 + e^{\\frac{V_m - V_{h_K}^\\infty}{A_{h_K}^\\infty}}}$$ <br>\n",
    "$$\\tau_{h_K} = \\exp\\Big(-(V_m + 40)/25.75\\Big)$$\n",
    "\n",
    "\n",
    "##### 3. Chloride Current\n",
    "$$I_{Cl} = \\bar{g}_{Cl} \\cdot A^4 \\cdot \\Big(V_m - E_{Cl}\\Big)$$ <br>\n",
    "$$A = \\frac{1}{1 + e^{\\frac{V_m - V_a}{A_a}}}$$ <br>\n",
    "\n",
    "\n",
    "\n",
    "\n",
    "##### Parameters for ion currents\n",
    "---\n",
    "Note: for initial simulations all the parameters correspond to the \"Fast Twitch (FT)\" muscles.\n",
    "\n",
    "|Parameter|Unit|Definition|Value|Reference|\n",
    "|:---------|:----|:----------|:-----|:-----|\n",
    "|$$\\bar{g}_{Na}$$| $$mScm^{-2}$$ | Maximum conductance of sodium channel|$$804$$|Senneff|\n",
    "|$$\\bar{g}_{K}$$ | $$mScm^{-2}$$ | Maximum conductance of potassium channel|$$64.8$$|Senneff|\n",
    "|$$\\bar{g}_{Cl}$$ | $$mScm^{-2}$$ | Maximum conductance of chloride channel|$$19.65$$|Senneff|\n",
    "|$$G_K$$|  $$mScm^{-2}$$ |Maximum conductance of chloride channel|$$11.1$$|Senneff|\n",
    "|$$\\bar{J}_{NaK}$$|$$\\frac{\\mu \\cdot mol}{cm^2 s}$$| Maximum conductance of Na-K Pump| $$6.21 \\times 10^{-4}$$| Senneff|\n",
    "|$$\\alpha_m$$|$$\\frac{1}{ms \\cdot mV}$$| Maximum forward rate constant for $m$| $$0.288$$| Senneff|\n",
    "|$$\\beta_m$$|$$\\frac{1}{ms}$$|Maximum backward rate constant for $m$|$$1.38$$|Senneff|\n",
    "|$$\\alpha_h$$|$$\\frac{1}{ms \\cdot mV}$$| Maximum forward rate constant for $h$| $$0.0081$$| Senneff|\n",
    "|$$\\beta_h$$|$$\\frac{1}{ms}$$|Maximum backward rate constant for $m$|$$4.38$$|Senneff|\n",
    "|$$\\alpha_n$$|$$\\frac{1}{ms \\cdot mV}$$| Maximum forward rate constant for $n$| $$0.0131$$| Senneff|\n",
    "|$$\\beta_h$$|$$\\frac{1}{ms}$$|Maximum backward rate constant for $m$|$$4.38$$|Senneff|\n",
    "|$$V^m_{0.5}$$|$$\\frac{1}{ms \\cdot mV}$$|Half-maximal voltage for $m$|$$-46$$|Senneff|\n",
    "|$$K_{\\alpha_m}$$|$$\\frac{1}{ms}$$|Steepness factor for $m$|$$10$$|Senneff|\n",
    "|$$K_{\\beta_m}$$|$$\\frac{1}{ms}$$|Slope factor for $m$|$$18$$|Senneff|\n",
    "|$$V_h$$|$$\\frac{1}{ms}$$|Half maximal voltage for $h$|$$-45$$|Senneff|\n",
    "|$$K_{\\alpha_h}$$|$$\\frac{1}{ms}$$|Steepness factor for $h$|$$14.7$$|Senneff|\n",
    "|$$K_{\\beta_h}$$|$$\\frac{1}{ms}$$|Slope factor for $h$|$$9$$|Senneff|\n",
    "|$$V^\\infty_S$$|$$mV$$|Half maximal voltage for $S$|$$-78$$|Senneff|\n",
    "|$$V_\\tau$$|$$mV$$|Half maximal voltage for $S$|$$90$$|Senneff|\n",
    "|$$A^\\infty_S$$|$$mV$$|Steepness factor for $S$|$$5.8$$|Senneff|\n",
    "|$$V_n$$|$$mV$$|Half maximal voltage for $n$|$$-40$$|Senneff|\n",
    "|$$K_{\\alpha_n}$$|$$mV$$|Steepness factor for $n$|$$7$$|Senneff|\n",
    "|$$K_{\\beta_n}$$|$$mV$$|Slope factor for $n$|$$40$$|Senneff|\n",
    "|$$V_a$$|$$mV$$|Half-maximal voltage for $a$|$$70$$|Senneff|\n",
    "|$$A_a$$|$$mV$$|Steepness factor for $a$|$$150$$|Senneff|\n",
    "|$$E_{Na}$$|$$mV$$|Sodium channel Nernst Potential|$$59.3$$|Wallinga|\n",
    "|$$E_{K}$$|$$mV$$|Potassium channel Nernst potential|$$-81.8$$|Wallinga|\n",
    "|$$E_{Cl}$$|$$mV$$|Chloride channel Nernst potential|$$-78.3$$|Wallinga|"
   ]
  },
  {
   "cell_type": "code",
   "execution_count": 51,
   "id": "4abf93db-5db7-43c1-a339-3b59138e6827",
   "metadata": {},
   "outputs": [
    {
     "data": {
      "image/png": "[encoded data removed]",
      "text/plain": [
       "<Figure size 1000x100 with 1 Axes>"
      ]
     },
     "metadata": {},
     "output_type": "display_data"
    }
   ],
   "source": [
    "import numpy as np\n",
    "import matplotlib.pyplot as plt\n",
    "%matplotlib inline\n",
    "import seaborn as sns\n",
    "import pandas as pd\n",
    "from scipy.integrate import solve_ivp, odeint\n",
    "import os\n",
    "sns.set_style(\"ticks\")\n",
    "plt.rcParams[\"axes.labelweight\"] = \"bold\"\n",
    "plt.rcParams[\"axes.labelsize\"] = 14\n",
    "plt.rcParams[\"figure.dpi\"] = 100\n",
    "plt.rcParams[\"font.family\"] = \"ariel\"\n",
    "qcolors = [\"#C6D57E\", \"#D57E7E\", \"#A2CDCD\", \"#FFE1AF\"]\n",
    "#qPal = sns.color_palette(sns.set_palette(qcolors))\n",
    "qPal = sns.color_palette(sns.set_palette(\"colorblind\"))\n",
    "sns.palplot(qPal)"
   ]
  },
  {
   "cell_type": "code",
   "execution_count": 35,
   "id": "65d7be32-85dc-4557-a276-037190b3aa41",
   "metadata": {},
   "outputs": [],
   "source": [
    "class Skeletal_muscle:\n",
    "    \"\"\" This class contains the parameters and equations describing dynamics of a skeletal muscle. The class is broken into following parts:\n",
    "    1. Sarcolemma Model: - Contains ionic currents modeled with Hodgkin-Huxley-like conductance based equations. (UNDER CONSTRUCTION)\n",
    "    2. Transverse tubule (T-tubule) Model: - Containts the T-tubule ion channels and voltage-gated calcium channels. (UNDER CONSTRUCTION)\n",
    "    3. Sarcoplasmic Reticulum: - Consists of ryanodine receptors, IP3 receptors and SERCA Pumps. (UNDER CONSTRUCTION)\n",
    "    4. Mitochondria (UNDER CONSTRUCTION)\n",
    "    \"\"\"\n",
    "    ########################################## defining constants ##################################################\n",
    "    \n",
    "    ########### 1. Sodium conductance/channel\n",
    "    g_max_Na = 804                   # mS.cm^-2; peak sodium conductance\n",
    "    E_Na = 59.3                      # mV; Sodium channel Nernst Potential\n",
    "    α_max_m = 0.288                  # (ms.mV)^-1; Maximum forward rate constant for m\n",
    "    β_max_m = 1.38                   # ms^-1; Maximum backward rate constant for m\n",
    "    α_max_h = 0.0081                 # ms^-1; Maximum forward rate constant for h\n",
    "    β_max_h = 0.067                  # ms^-1; Maximum backward rate constant for h\n",
    "    V_half_m = -46                   # mV; Half-maximum voltage for m\n",
    "    K_alpha_m = 10                   # ms^-1; Steepness factor for m\n",
    "    K_beta_m = 18                    # ms^-1: Slope factor for m\n",
    "    V_half_h = -45                   # mV; Half-maximum voltage for h\n",
    "    K_alpha_h = 14.7                 # (ms.mV)^-1; Steepness factor for h\n",
    "    K_beta_h = 9                     # ms^-1; Slope factor for h\n",
    "    V_half_S = -78                   # mV; Half-maximal voltage for S\n",
    "    A_S = 5.8                        # mV; Steepness factorfor S\n",
    "    V_tau = 90                       # Half-maximum voltage for τ_s\n",
    "    \n",
    "    ########## 2. Potassium conductance/channel\n",
    "    g_max_K = 64.8                   # mS.cm^-2; peak potassium conductance\n",
    "    E_K = -81.8                      # mV; Potassium channel Nernst Potential\n",
    "    α_max_n = 0.0131                 # (ms.mV)^-1; Maximum forward rate constant for n\n",
    "    β_max_n = 0.067                  # ms^-1; Maximum backward rate constant for n\n",
    "    V_half_n = -40                   # mV; Half-maximum voltage for n\n",
    "    K_alpha_n = 7                    # mV; steepness factor for n\n",
    "    K_beta_n = 40                    # mV; Slope factor for n\n",
    "    V_half_hk = -40                  # mV; Half-maximum voltage for hk\n",
    "    A_hk = 7.5                       # mV; Steepness factor for hk\n",
    "    \n",
    "    ######### 3. Chloride conductance/channel\n",
    "    g_max_Cl = 19.65                 # mS.cm^-2; Maximum conductance of Cl- channel\n",
    "    E_Cl = -78.3                     # mV; Potassium channel Nernst Potential\n",
    "    V_half_a = 70                    # mV; Half-maximum voltage for a\n",
    "    A_a = 150                        # mV; Steepness factor for a\n",
    "    \n",
    "    \n",
    "    \n",
    "    \n",
    "    ##################################### Functions ##############################################################\n",
    "    def na_gating_vars(self, V):\n",
    "        \"\"\"This function takes the membrane voltage as input and returns α_m, β_m, α_h and β_h. Functions taken from Senneff and Lowrey 2020.\"\"\"\n",
    "    \n",
    "        a_m = (self.α_max_m*(V - self.V_half_m))/(1 - np.exp((-(V - self.V_half_m))/(self.K_alpha_m)))\n",
    "        b_m = self.β_max_m*np.exp(-(V - self.V_half_m)/(self.K_beta_m))\n",
    "        a_h = self.α_max_h*np.exp(-(V - self.V_half_h)/(self.K_beta_h))\n",
    "        b_h = (self.β_max_h)/(1 + np.exp(-(V - self.V_half_h)/(self.K_beta_h)))\n",
    "        \n",
    "        return a_m, b_m, a_h, b_h\n",
    "    \n",
    "    def na_slow_inactivation_vars(self, V):\n",
    "        \"\"\"This function takes membrane voltage as input and returns S_inf and τ_S variables of the sodium channel slow inactivation.\"\"\"\n",
    "\n",
    "        S_inf = 1/(1 + np.exp((V - self.V_half_S)/(self.A_S)))\n",
    "        tau_S = (60)/(0.2 + 5.56*(np.power((V + self.V_tau), 2)/(100)))\n",
    "\n",
    "        return S_inf, tau_S\n",
    "    \n",
    "    def k_gating_vars(self, V):\n",
    "        \"\"\"This function takes membrane voltage as input and returns α_n and β_n (Potassium gating variables). Functions taken from Senneff and Lowrey 2020.\"\"\"\n",
    "        a_n = (self.α_max_n*(V - self.V_half_n))/(1 - np.exp(-(V - self.V_half_n)/(self.K_alpha_n)))\n",
    "        b_n = self.β_max_n*np.exp(-(V - self.V_half_n)/(self.K_beta_n))\n",
    "        \n",
    "        return a_n, b_n\n",
    "    \n",
    "    def h_K_inf(self, V):\n",
    "        \"\"\"This function takes membrane voltage V as input and returns h_K_inf parameter for slow K channel inactivation. Functions taken from Senneff and Lowrey 2020.\"\"\"\n",
    "        return 1/(1 + np.exp((V - self.V_half_hk)/(self.A_hk)))\n",
    "    \n",
    "    def tau_h_K(self, V):\n",
    "        \"\"\"This function takes membrane voltage V as input and returns the time constant τ_hK for K-channel slow inactivation\"\"\"\n",
    "        return np.exp(-(V + 40)/25.75)\n",
    "    \n",
    "    def A_boltzmann(self, V):\n",
    "        \"\"\"This function takes membrane voltage V as input and returns the Boltzmann-function for activation of Cl- channel\"\"\"\n",
    "        return 1/(1 + np.exp((V - self.V_half_a)/(self.A_a)))\n",
    "    \n",
    "    \n",
    "    \n",
    "    \n",
    "    \n",
    "    \n",
    "    \n",
    "    \n",
    "    \n",
    "    \n",
    "    \n",
    "\n",
    "    \n",
    "    \n",
    "    \n",
    "    \n",
    "    \n",
    "    "
   ]
  },
  {
   "cell_type": "code",
   "execution_count": 38,
   "id": "3658e55f-f9a8-4c80-b2cf-a3b2e7a1d53d",
   "metadata": {},
   "outputs": [
    {
     "data": {
      "text/plain": [
       "' This class contains the parameters and equations describing dynamics of a skeletal muscle. The class is broken into following parts:\\n    1. Sarcolemma Model: - Contains ionic currents modeled with Hodgkin-Huxley-like conductance based equations. (UNDER CONSTRUCTION)\\n    2. Transverse tubule (T-tubule) Model: - Containts the T-tubule ion channels and voltage-gated calcium channels. (UNDER CONSTRUCTION)\\n    3. Sarcoplasmic Reticulum: - Consists of ryanodine receptors, IP3 receptors and SERCA Pumps. (UNDER CONSTRUCTION)\\n    4. Mitochondria (UNDER CONSTRUCTION)\\n    '"
      ]
     },
     "execution_count": 38,
     "metadata": {},
     "output_type": "execute_result"
    }
   ],
   "source": [
    "Skeletal_muscle.__doc__"
   ]
  },
  {
   "cell_type": "code",
   "execution_count": 50,
   "id": "245b9fe6-5598-4349-b68f-7be171015552",
   "metadata": {},
   "outputs": [
    {
     "data": {
      "text/plain": [
       "Text(0.5, 0, 'Time')"
      ]
     },
     "execution_count": 50,
     "metadata": {},
     "output_type": "execute_result"
    },
    {
     "data": {
      "image/png": "[encoded data removed]",
      "text/plain": [
       "<Figure size 600x400 with 1 Axes>"
      ]
     },
     "metadata": {},
     "output_type": "display_data"
    }
   ],
   "source": [
    "b = np.arange(0., 10., 0.01)\n",
    "a = np.sin(b*np.pi/6)\n",
    "sns.lineplot(x=b,y=a)\n",
    "plt.xlabel(r\"Time\")"
   ]
  },
  {
   "cell_type": "code",
   "execution_count": null,
   "id": "66c71fa5-1476-4c94-bbf0-88793f329cb0",
   "metadata": {},
   "outputs": [],
   "source": []
  }
 ],
 "metadata": {
  "kernelspec": {
   "display_name": "Python 3",
   "language": "python",
   "name": "python3"
  },
  "language_info": {
   "codemirror_mode": {
    "name": "ipython",
    "version": 3
   },
   "file_extension": ".py",
   "mimetype": "text/x-python",
   "name": "python",
   "nbconvert_exporter": "python",
   "pygments_lexer": "ipython3",
   "version": "3.8.8"
  }
 },
 "nbformat": 4,
 "nbformat_minor": 5
}
